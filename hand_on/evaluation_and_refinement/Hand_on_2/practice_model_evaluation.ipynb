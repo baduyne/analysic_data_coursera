{
 "cells": [
  {
   "cell_type": "markdown",
   "metadata": {},
   "source": [
    "<p style=\"text-align:center\">\n",
    "    <a href=\"https://skills.network\" target=\"_blank\">\n",
    "    <img src=\"https://cf-courses-data.s3.us.cloud-object-storage.appdomain.cloud/assets/logos/SN_web_lightmode.png\" width=\"300\" alt=\"Skills Network Logo\">\n",
    "    </a>\n",
    "</p>\n"
   ]
  },
  {
   "cell_type": "markdown",
   "metadata": {},
   "source": [
    "# **Hands-on Practice Lab: Model Evaluation and Refinement**\n",
    "\n",
    "Estimated time needed: **45** minutes\n",
    "\n",
    "In this lab, you will use the skills acquired throughout the module, and try to refine your model's performance in predicting the price of a laptop, given the attribute values.\n"
   ]
  },
  {
   "cell_type": "markdown",
   "metadata": {},
   "source": [
    "# Objectives\n",
    "\n",
    "After completing this lab you will be able to:\n",
    "\n",
    " - Use training, testing and cross validation to improve the performance of the dataset. \n",
    " - Identify the point of overfitting of a model\n",
    " - Use Ridge Regression to identify the change in performance of a model based on its hyperparameters\n",
    " - Use Grid Search to identify the best performing model using different hyperparameters\n"
   ]
  },
  {
   "cell_type": "markdown",
   "metadata": {},
   "source": [
    "# Setup\n"
   ]
  },
  {
   "cell_type": "markdown",
   "metadata": {},
   "source": [
    "For this lab, we will be using the following libraries:\n",
    "\n",
    "* `skillsnetwork` for downloading the dataset\n",
    "*   [`pandas`](https://pandas.pydata.org/?utm_medium=Exinfluencer&utm_source=Exinfluencer&utm_content=000026UJ&utm_term=10006555&utm_id=NA-SkillsNetwork-Channel-SkillsNetworkCoursesIBMML0187ENSkillsNetwork31430127-2021-01-01) for managing the data.\n",
    "*   [`numpy`](https://numpy.org/?utm_medium=Exinfluencer&utm_source=Exinfluencer&utm_content=000026UJ&utm_term=10006555&utm_id=NA-SkillsNetwork-Channel-SkillsNetworkCoursesIBMML0187ENSkillsNetwork31430127-2021-01-01) for mathematical operations.\n",
    "*   [`sklearn`](https://scikit-learn.org/stable/?utm_medium=Exinfluencer&utm_source=Exinfluencer&utm_content=000026UJ&utm_term=10006555&utm_id=NA-SkillsNetwork-Channel-SkillsNetworkCoursesIBMML0187ENSkillsNetwork31430127-2021-01-01) for machine learning and machine-learning-pipeline related functions.\n",
    "*   [`seaborn`](https://seaborn.pydata.org/?utm_medium=Exinfluencer&utm_source=Exinfluencer&utm_content=000026UJ&utm_term=10006555&utm_id=NA-SkillsNetwork-Channel-SkillsNetworkCoursesIBMML0187ENSkillsNetwork31430127-2021-01-01) for visualizing the data.\n",
    "*   [`matplotlib`](https://matplotlib.org/?utm_medium=Exinfluencer&utm_source=Exinfluencer&utm_content=000026UJ&utm_term=10006555&utm_id=NA-SkillsNetwork-Channel-SkillsNetworkCoursesIBMML0187ENSkillsNetwork31430127-2021-01-01) for additional plotting tools.\n"
   ]
  },
  {
   "cell_type": "markdown",
   "metadata": {},
   "source": [
    "### Installing Required Libraries\n",
    "\n",
    "The following required libraries are pre-installed in the Skills Network Labs environment. However, if you run this notebook commands in a different Jupyter environment (e.g. Watson Studio or Ananconda), you will need to install these libraries by removing the `#` sign before `%pip` in the code cell below.\n"
   ]
  },
  {
   "cell_type": "markdown",
   "metadata": {},
   "source": [
    "The following required libraries are __not__ pre-installed in the Skills Network Labs environment. __You will need to run the following cell__ to install them:\n"
   ]
  },
  {
   "cell_type": "code",
   "execution_count": 67,
   "metadata": {
    "trusted": true
   },
   "outputs": [],
   "source": [
    "# import piplite\n",
    "# await piplite.install('seaborn')"
   ]
  },
  {
   "cell_type": "markdown",
   "metadata": {},
   "source": [
    "### Importing Required Libraries\n",
    "\n",
    "_We recommend you import all required libraries in one place (here):_\n"
   ]
  },
  {
   "cell_type": "code",
   "execution_count": 68,
   "metadata": {
    "trusted": true
   },
   "outputs": [],
   "source": [
    "# from tqdm import tqdm\n",
    "import numpy as np\n",
    "import pandas as pd\n",
    "import matplotlib.pyplot as plt\n",
    "import seaborn as sns\n",
    "%matplotlib inline\n",
    "from sklearn.model_selection import train_test_split, cross_val_score, GridSearchCV\n",
    "from sklearn.linear_model import LinearRegression, Ridge\n",
    "from sklearn.preprocessing import PolynomialFeatures"
   ]
  },
  {
   "cell_type": "markdown",
   "metadata": {},
   "source": [
    "# Importing the Dataset\n",
    "\n",
    "Run the cell below to donwload the dataset into the console.\n"
   ]
  },
  {
   "cell_type": "code",
   "execution_count": 69,
   "metadata": {
    "trusted": true
   },
   "outputs": [],
   "source": [
    "# from pyodide.http import pyfetch\n",
    "\n",
    "# async def download(url, filename):\n",
    "#     response = await pyfetch(url)\n",
    "#     if response.status == 200:\n",
    "#         with open(filename, \"wb\") as f:\n",
    "#             f.write(await response.bytes())"
   ]
  },
  {
   "cell_type": "code",
   "execution_count": 70,
   "metadata": {
    "trusted": true
   },
   "outputs": [],
   "source": [
    "filepath = 'https://cf-courses-data.s3.us.cloud-object-storage.appdomain.cloud/IBMDeveloperSkillsNetwork-DA0101EN-Coursera/laptop_pricing_dataset_mod2.csv'"
   ]
  },
  {
   "cell_type": "code",
   "execution_count": 71,
   "metadata": {
    "trusted": true
   },
   "outputs": [],
   "source": [
    "# await download(filepath, \"laptops.csv\")\n",
    "file_name=\"laptops.csv\""
   ]
  },
  {
   "cell_type": "code",
   "execution_count": 72,
   "metadata": {
    "trusted": true
   },
   "outputs": [],
   "source": [
    "df = pd.read_csv(file_name, header=0)"
   ]
  },
  {
   "cell_type": "markdown",
   "metadata": {},
   "source": [
    "> Note: This version of the lab is working on JupyterLite, which requires the dataset to be downloaded to the interface.While working on the downloaded version of this notebook on their local machines(Jupyter Anaconda), the learners can simply **skip the steps above,** and simply use the URL directly in the `pandas.read_csv()` function. You can uncomment and run the statements in the cell below.\n"
   ]
  },
  {
   "cell_type": "markdown",
   "metadata": {},
   "source": [
    "Import the data set into a data frame.\n"
   ]
  },
  {
   "cell_type": "code",
   "execution_count": 73,
   "metadata": {
    "trusted": true
   },
   "outputs": [],
   "source": [
    "#filepath = 'https://cf-courses-data.s3.us.cloud-object-storage.appdomain.cloud/IBMDeveloperSkillsNetwork-DA0101EN-Coursera/laptop_pricing_dataset_mod2.csv'\n",
    "#df = pd.read_csv(filepath, header=None)"
   ]
  },
  {
   "cell_type": "markdown",
   "metadata": {},
   "source": [
    "Print the value of df.head(). \n"
   ]
  },
  {
   "cell_type": "code",
   "execution_count": 74,
   "metadata": {
    "trusted": true
   },
   "outputs": [
    {
     "data": {
      "text/html": [
       "<div>\n",
       "<style scoped>\n",
       "    .dataframe tbody tr th:only-of-type {\n",
       "        vertical-align: middle;\n",
       "    }\n",
       "\n",
       "    .dataframe tbody tr th {\n",
       "        vertical-align: top;\n",
       "    }\n",
       "\n",
       "    .dataframe thead th {\n",
       "        text-align: right;\n",
       "    }\n",
       "</style>\n",
       "<table border=\"1\" class=\"dataframe\">\n",
       "  <thead>\n",
       "    <tr style=\"text-align: right;\">\n",
       "      <th></th>\n",
       "      <th>Unnamed: 0.1</th>\n",
       "      <th>Unnamed: 0</th>\n",
       "      <th>Manufacturer</th>\n",
       "      <th>Category</th>\n",
       "      <th>GPU</th>\n",
       "      <th>OS</th>\n",
       "      <th>CPU_core</th>\n",
       "      <th>Screen_Size_inch</th>\n",
       "      <th>CPU_frequency</th>\n",
       "      <th>RAM_GB</th>\n",
       "      <th>Storage_GB_SSD</th>\n",
       "      <th>Weight_pounds</th>\n",
       "      <th>Price</th>\n",
       "      <th>Price-binned</th>\n",
       "      <th>Screen-Full_HD</th>\n",
       "      <th>Screen-IPS_panel</th>\n",
       "    </tr>\n",
       "  </thead>\n",
       "  <tbody>\n",
       "    <tr>\n",
       "      <th>0</th>\n",
       "      <td>0</td>\n",
       "      <td>0</td>\n",
       "      <td>Acer</td>\n",
       "      <td>4</td>\n",
       "      <td>2</td>\n",
       "      <td>1</td>\n",
       "      <td>5</td>\n",
       "      <td>14.0</td>\n",
       "      <td>0.551724</td>\n",
       "      <td>8</td>\n",
       "      <td>256</td>\n",
       "      <td>3.52800</td>\n",
       "      <td>978</td>\n",
       "      <td>Low</td>\n",
       "      <td>0</td>\n",
       "      <td>1</td>\n",
       "    </tr>\n",
       "    <tr>\n",
       "      <th>1</th>\n",
       "      <td>1</td>\n",
       "      <td>1</td>\n",
       "      <td>Dell</td>\n",
       "      <td>3</td>\n",
       "      <td>1</td>\n",
       "      <td>1</td>\n",
       "      <td>3</td>\n",
       "      <td>15.6</td>\n",
       "      <td>0.689655</td>\n",
       "      <td>4</td>\n",
       "      <td>256</td>\n",
       "      <td>4.85100</td>\n",
       "      <td>634</td>\n",
       "      <td>Low</td>\n",
       "      <td>1</td>\n",
       "      <td>0</td>\n",
       "    </tr>\n",
       "    <tr>\n",
       "      <th>2</th>\n",
       "      <td>2</td>\n",
       "      <td>2</td>\n",
       "      <td>Dell</td>\n",
       "      <td>3</td>\n",
       "      <td>1</td>\n",
       "      <td>1</td>\n",
       "      <td>7</td>\n",
       "      <td>15.6</td>\n",
       "      <td>0.931034</td>\n",
       "      <td>8</td>\n",
       "      <td>256</td>\n",
       "      <td>4.85100</td>\n",
       "      <td>946</td>\n",
       "      <td>Low</td>\n",
       "      <td>1</td>\n",
       "      <td>0</td>\n",
       "    </tr>\n",
       "    <tr>\n",
       "      <th>3</th>\n",
       "      <td>3</td>\n",
       "      <td>3</td>\n",
       "      <td>Dell</td>\n",
       "      <td>4</td>\n",
       "      <td>2</td>\n",
       "      <td>1</td>\n",
       "      <td>5</td>\n",
       "      <td>13.3</td>\n",
       "      <td>0.551724</td>\n",
       "      <td>8</td>\n",
       "      <td>128</td>\n",
       "      <td>2.69010</td>\n",
       "      <td>1244</td>\n",
       "      <td>Low</td>\n",
       "      <td>0</td>\n",
       "      <td>1</td>\n",
       "    </tr>\n",
       "    <tr>\n",
       "      <th>4</th>\n",
       "      <td>4</td>\n",
       "      <td>4</td>\n",
       "      <td>HP</td>\n",
       "      <td>4</td>\n",
       "      <td>2</td>\n",
       "      <td>1</td>\n",
       "      <td>7</td>\n",
       "      <td>15.6</td>\n",
       "      <td>0.620690</td>\n",
       "      <td>8</td>\n",
       "      <td>256</td>\n",
       "      <td>4.21155</td>\n",
       "      <td>837</td>\n",
       "      <td>Low</td>\n",
       "      <td>1</td>\n",
       "      <td>0</td>\n",
       "    </tr>\n",
       "  </tbody>\n",
       "</table>\n",
       "</div>"
      ],
      "text/plain": [
       "   Unnamed: 0.1  Unnamed: 0 Manufacturer  Category  GPU  OS  CPU_core  \\\n",
       "0             0           0         Acer         4    2   1         5   \n",
       "1             1           1         Dell         3    1   1         3   \n",
       "2             2           2         Dell         3    1   1         7   \n",
       "3             3           3         Dell         4    2   1         5   \n",
       "4             4           4           HP         4    2   1         7   \n",
       "\n",
       "   Screen_Size_inch  CPU_frequency  RAM_GB  Storage_GB_SSD  Weight_pounds  \\\n",
       "0              14.0       0.551724       8             256        3.52800   \n",
       "1              15.6       0.689655       4             256        4.85100   \n",
       "2              15.6       0.931034       8             256        4.85100   \n",
       "3              13.3       0.551724       8             128        2.69010   \n",
       "4              15.6       0.620690       8             256        4.21155   \n",
       "\n",
       "   Price Price-binned  Screen-Full_HD  Screen-IPS_panel  \n",
       "0    978          Low               0                 1  \n",
       "1    634          Low               1                 0  \n",
       "2    946          Low               1                 0  \n",
       "3   1244          Low               0                 1  \n",
       "4    837          Low               1                 0  "
      ]
     },
     "execution_count": 74,
     "metadata": {},
     "output_type": "execute_result"
    }
   ],
   "source": [
    "df.head()"
   ]
  },
  {
   "cell_type": "markdown",
   "metadata": {},
   "source": [
    "Drop the two unnecessary columns that have been added into the file, 'Unnamed: 0' and 'Unnamed: 0.1'. Use drop to delete these columns.\n"
   ]
  },
  {
   "cell_type": "code",
   "execution_count": 75,
   "metadata": {
    "trusted": true
   },
   "outputs": [],
   "source": [
    "df.drop(['Unnamed: 0', 'Unnamed: 0.1'], axis=1, inplace=True)"
   ]
  },
  {
   "cell_type": "markdown",
   "metadata": {},
   "source": [
    "# Task 1 : Using Cross validation to improve the model\n",
    "\n",
    "Divide the dataset into x_data and y_data parameters. Here y_data is the \"Price\" attribute, and x_data has all other attributes in the data set.\n"
   ]
  },
  {
   "cell_type": "code",
   "execution_count": 76,
   "metadata": {
    "trusted": true
   },
   "outputs": [],
   "source": [
    "# Write your code below and press Shift+Enter to execute \n",
    "y_data = df['Price']\n",
    "x_data = df.drop('Price',axis = 1)"
   ]
  },
  {
   "cell_type": "markdown",
   "metadata": {},
   "source": [
    "<details><summary>Click here for the solution</summary>\n",
    "\n",
    "```python\n",
    "y_data = df['Price']\n",
    "x_data = df.drop('Price',axis=1)\n",
    "```\n",
    "\n",
    "</details>\n"
   ]
  },
  {
   "cell_type": "markdown",
   "metadata": {},
   "source": [
    "Split the data set into training and testing subests such that you reserve 10% of the data set for testing purposes.\n"
   ]
  },
  {
   "cell_type": "code",
   "execution_count": 77,
   "metadata": {
    "trusted": true
   },
   "outputs": [],
   "source": [
    "# Write your code below and press Shift+Enter to execute \n",
    "from sklearn.model_selection import train_test_split\n",
    "\n",
    "x_train,x_test,y_train,y_test = train_test_split(x_data,y_data, test_size = 0.1, random_state = 0)"
   ]
  },
  {
   "cell_type": "markdown",
   "metadata": {},
   "source": [
    "<details><summary>Click here for the solution</summary>\n",
    "\n",
    "```python\n",
    "x_train, x_test, y_train, y_test = train_test_split(x_data, y_data, test_size=0.10, random_state=1)\n",
    "print(\"number of test samples :\", x_test.shape[0])\n",
    "print(\"number of training samples:\",x_train.shape[0])\n",
    "```\n",
    "\n",
    "</details>\n"
   ]
  },
  {
   "cell_type": "markdown",
   "metadata": {},
   "source": [
    "Create a single variable linear regression model using \"CPU_frequency\" parameter. Print the R^2 value of this model for the training and testing subsets.\n"
   ]
  },
  {
   "cell_type": "code",
   "execution_count": 78,
   "metadata": {
    "trusted": true
   },
   "outputs": [
    {
     "name": "stdout",
     "output_type": "stream",
     "text": [
      "0.14724238605458906\n",
      "-0.09730358788786875\n"
     ]
    }
   ],
   "source": [
    "# Write your code below and press Shift+Enter to execute \n",
    "from sklearn.linear_model import LinearRegression\n",
    "\n",
    "lr = LinearRegression()\n",
    "lr.fit(x_train[['CPU_frequency']],y_train)\n",
    "\n",
    "\n",
    "Yhat_cpu = lr.predict(x_train[['CPU_frequency']])\n",
    "\n",
    "r_2_train = lr.score(x_train[['CPU_frequency']],y_train)\n",
    "r_2_test = lr.score(x_test[['CPU_frequency']],y_test)\n",
    "print(r_2_train)\n",
    "print(r_2_test)"
   ]
  },
  {
   "cell_type": "markdown",
   "metadata": {},
   "source": [
    "<details><summary>Click here for the solution</summary>\n",
    "\n",
    "```python\n",
    "lre=LinearRegression()\n",
    "lre.fit(x_train[['CPU_frequency']], y_train)\n",
    "print(lre.score(x_test[['CPU_frequency']], y_test))\n",
    "print(lre.score(x_train[['CPU_frequency']], y_train))\n",
    "```\n",
    "\n",
    "</details>\n"
   ]
  },
  {
   "cell_type": "markdown",
   "metadata": {},
   "source": [
    "Run a 4-fold cross validation on the model and print the mean value of R^2 score along with its standard deviation.\n"
   ]
  },
  {
   "cell_type": "code",
   "execution_count": 79,
   "metadata": {
    "trusted": true
   },
   "outputs": [
    {
     "name": "stdout",
     "output_type": "stream",
     "text": [
      "-0.16109232388595096\n",
      "0.3849579786664708\n"
     ]
    }
   ],
   "source": [
    "# Write your code below and press Shift+Enter to execute \n",
    "from sklearn.model_selection import cross_val_score, cross_val_predict\n",
    "from sklearn.linear_model import LinearRegression\n",
    "from sklearn.metrics import mean_squared_error\n",
    "R_cross = cross_val_score(lr, x_data[[\"CPU_frequency\"]],y_data, cv = 4) \n",
    "print(R_cross.mean())\n",
    "\n",
    "print(R_cross.std())"
   ]
  },
  {
   "cell_type": "markdown",
   "metadata": {},
   "source": [
    "<details><summary>Click here for the solution</summary>\n",
    "\n",
    "```python\n",
    "Rcross = cross_val_score(lre, x_data[['CPU_frequency']], y_data, cv=4)\n",
    "print(\"The mean of the folds are\", Rcross.mean(), \"and the standard deviation is\" , Rcross.std())\n",
    "```\n",
    "\n",
    "</details>\n"
   ]
  },
  {
   "cell_type": "code",
   "execution_count": 80,
   "metadata": {},
   "outputs": [
    {
     "name": "stdout",
     "output_type": "stream",
     "text": [
      "The mean of the folds are -0.16109232388595096 and the standard deviation is 0.3849579786664708\n"
     ]
    }
   ],
   "source": [
    "Rcross = cross_val_score(lr, x_data[['CPU_frequency']], y_data, cv=4)\n",
    "print(\"The mean of the folds are\", Rcross.mean(), \"and the standard deviation is\" , Rcross.std())"
   ]
  },
  {
   "cell_type": "markdown",
   "metadata": {},
   "source": [
    "# Task 2: Overfitting\n",
    "\n",
    "Split the data set into training and testing components again, this time reserving 50% of the data set for testing.\n"
   ]
  },
  {
   "cell_type": "code",
   "execution_count": 81,
   "metadata": {
    "trusted": true
   },
   "outputs": [],
   "source": [
    "# Write your code below and press Shift+Enter to execute \n",
    "x_train1, x_test1,y_train1,y_test1 = train_test_split(x_data,y_data,test_size= 0.50, random_state= 23)"
   ]
  },
  {
   "cell_type": "markdown",
   "metadata": {},
   "source": [
    "<details><summary>Click here for the solution</summary>\n",
    "\n",
    "```python\n",
    "x_train, x_test, y_train, y_test = train_test_split(x_data, y_data, test_size=0.5, random_state=0)\n",
    "# fixing random_state to a fixed quantity helps maintain uniformity between multiple \n",
    "# executions of the code.\n",
    "```\n",
    "\n",
    "</details>\n"
   ]
  },
  {
   "cell_type": "markdown",
   "metadata": {},
   "source": [
    "To identify the point of overfitting the model on the parameter \"CPU_frequency\", you'll need to create polynomial features using the single attribute. \n",
    "You need to evaluate the R^2 scores of the model created using different degrees of polynomial features, ranging from 1 to 5. Save this set of values of R^2 score as a list.\n"
   ]
  },
  {
   "cell_type": "code",
   "execution_count": 82,
   "metadata": {},
   "outputs": [
    {
     "data": {
      "text/plain": [
       "(119, 1)"
      ]
     },
     "execution_count": 82,
     "metadata": {},
     "output_type": "execute_result"
    }
   ],
   "source": [
    "x_train1[[\"CPU_frequency\"]].shape"
   ]
  },
  {
   "cell_type": "code",
   "execution_count": 83,
   "metadata": {},
   "outputs": [
    {
     "data": {
      "text/plain": [
       "137    0.551724\n",
       "2      0.931034\n",
       "175    0.862069\n",
       "172    0.862069\n",
       "134    0.793103\n",
       "         ...   \n",
       "182    0.931034\n",
       "201    0.896552\n",
       "40     0.620690\n",
       "230    0.862069\n",
       "83     0.931034\n",
       "Name: CPU_frequency, Length: 119, dtype: float64"
      ]
     },
     "execution_count": 83,
     "metadata": {},
     "output_type": "execute_result"
    }
   ],
   "source": [
    "x_train1[\"CPU_frequency\"]"
   ]
  },
  {
   "cell_type": "code",
   "execution_count": 84,
   "metadata": {},
   "outputs": [
    {
     "data": {
      "text/plain": [
       "array([[1.        , 0.55172414, 0.30439952],\n",
       "       [1.        , 0.93103448, 0.86682521],\n",
       "       [1.        , 0.86206897, 0.7431629 ],\n",
       "       [1.        , 0.86206897, 0.7431629 ],\n",
       "       [1.        , 0.79310345, 0.62901308],\n",
       "       [1.        , 0.86206897, 0.7431629 ],\n",
       "       [1.        , 0.55172414, 0.30439952],\n",
       "       [1.        , 0.93103448, 0.86682521],\n",
       "       [1.        , 0.79310345, 0.62901308],\n",
       "       [1.        , 0.93103448, 0.86682521],\n",
       "       [1.        , 0.62068966, 0.38525565],\n",
       "       [1.        , 0.62068966, 0.38525565],\n",
       "       [1.        , 0.86206897, 0.7431629 ],\n",
       "       [1.        , 0.55172414, 0.30439952],\n",
       "       [1.        , 0.79310345, 0.62901308],\n",
       "       [1.        , 0.55172414, 0.30439952],\n",
       "       [1.        , 0.86206897, 0.7431629 ],\n",
       "       [1.        , 0.68965517, 0.47562426],\n",
       "       [1.        , 0.89655172, 0.80380499],\n",
       "       [1.        , 0.86206897, 0.7431629 ],\n",
       "       [1.        , 0.96551724, 0.93222354],\n",
       "       [1.        , 0.86206897, 0.7431629 ],\n",
       "       [1.        , 0.86206897, 0.7431629 ],\n",
       "       [1.        , 0.4137931 , 0.17122473],\n",
       "       [1.        , 0.93103448, 0.86682521],\n",
       "       [1.        , 0.89655172, 0.80380499],\n",
       "       [1.        , 0.62068966, 0.38525565],\n",
       "       [1.        , 0.55172414, 0.30439952],\n",
       "       [1.        , 0.86206897, 0.7431629 ],\n",
       "       [1.        , 0.86206897, 0.7431629 ],\n",
       "       [1.        , 0.86206897, 0.7431629 ],\n",
       "       [1.        , 0.86206897, 0.7431629 ],\n",
       "       [1.        , 0.96551724, 0.93222354],\n",
       "       [1.        , 0.82758621, 0.68489893],\n",
       "       [1.        , 0.62068966, 0.38525565],\n",
       "       [1.        , 0.82758621, 0.68489893],\n",
       "       [1.        , 0.96551724, 0.93222354],\n",
       "       [1.        , 0.68965517, 0.47562426],\n",
       "       [1.        , 0.68965517, 0.47562426],\n",
       "       [1.        , 0.96551724, 0.93222354],\n",
       "       [1.        , 0.86206897, 0.7431629 ],\n",
       "       [1.        , 0.79310345, 0.62901308],\n",
       "       [1.        , 0.96551724, 0.93222354],\n",
       "       [1.        , 0.86206897, 0.7431629 ],\n",
       "       [1.        , 0.86206897, 0.7431629 ],\n",
       "       [1.        , 0.62068966, 0.38525565],\n",
       "       [1.        , 0.96551724, 0.93222354],\n",
       "       [1.        , 0.86206897, 0.7431629 ],\n",
       "       [1.        , 0.62068966, 0.38525565],\n",
       "       [1.        , 0.55172414, 0.30439952],\n",
       "       [1.        , 0.86206897, 0.7431629 ],\n",
       "       [1.        , 0.93103448, 0.86682521],\n",
       "       [1.        , 0.55172414, 0.30439952],\n",
       "       [1.        , 0.86206897, 0.7431629 ],\n",
       "       [1.        , 0.86206897, 0.7431629 ],\n",
       "       [1.        , 0.86206897, 0.7431629 ],\n",
       "       [1.        , 0.82758621, 0.68489893],\n",
       "       [1.        , 0.86206897, 0.7431629 ],\n",
       "       [1.        , 0.93103448, 0.86682521],\n",
       "       [1.        , 0.82758621, 0.68489893],\n",
       "       [1.        , 0.55172414, 0.30439952],\n",
       "       [1.        , 0.89655172, 0.80380499],\n",
       "       [1.        , 0.89655172, 0.80380499],\n",
       "       [1.        , 0.55172414, 0.30439952],\n",
       "       [1.        , 0.86206897, 0.7431629 ],\n",
       "       [1.        , 0.96551724, 0.93222354],\n",
       "       [1.        , 0.86206897, 0.7431629 ],\n",
       "       [1.        , 0.62068966, 0.38525565],\n",
       "       [1.        , 0.86206897, 0.7431629 ],\n",
       "       [1.        , 0.55172414, 0.30439952],\n",
       "       [1.        , 0.55172414, 0.30439952],\n",
       "       [1.        , 0.62068966, 0.38525565],\n",
       "       [1.        , 0.86206897, 0.7431629 ],\n",
       "       [1.        , 0.68965517, 0.47562426],\n",
       "       [1.        , 0.86206897, 0.7431629 ],\n",
       "       [1.        , 0.96551724, 0.93222354],\n",
       "       [1.        , 0.86206897, 0.7431629 ],\n",
       "       [1.        , 0.86206897, 0.7431629 ],\n",
       "       [1.        , 0.86206897, 0.7431629 ],\n",
       "       [1.        , 0.86206897, 0.7431629 ],\n",
       "       [1.        , 0.86206897, 0.7431629 ],\n",
       "       [1.        , 0.93103448, 0.86682521],\n",
       "       [1.        , 0.93103448, 0.86682521],\n",
       "       [1.        , 0.93103448, 0.86682521],\n",
       "       [1.        , 0.79310345, 0.62901308],\n",
       "       [1.        , 0.93103448, 0.86682521],\n",
       "       [1.        , 0.93103448, 0.86682521],\n",
       "       [1.        , 0.82758621, 0.68489893],\n",
       "       [1.        , 0.86206897, 0.7431629 ],\n",
       "       [1.        , 0.86206897, 0.7431629 ],\n",
       "       [1.        , 0.79310345, 0.62901308],\n",
       "       [1.        , 0.86206897, 0.7431629 ],\n",
       "       [1.        , 0.93103448, 0.86682521],\n",
       "       [1.        , 0.55172414, 0.30439952],\n",
       "       [1.        , 0.86206897, 0.7431629 ],\n",
       "       [1.        , 0.86206897, 0.7431629 ],\n",
       "       [1.        , 0.96551724, 0.93222354],\n",
       "       [1.        , 0.93103448, 0.86682521],\n",
       "       [1.        , 0.86206897, 0.7431629 ],\n",
       "       [1.        , 0.96551724, 0.93222354],\n",
       "       [1.        , 0.86206897, 0.7431629 ],\n",
       "       [1.        , 0.55172414, 0.30439952],\n",
       "       [1.        , 0.68965517, 0.47562426],\n",
       "       [1.        , 0.79310345, 0.62901308],\n",
       "       [1.        , 0.55172414, 0.30439952],\n",
       "       [1.        , 0.55172414, 0.30439952],\n",
       "       [1.        , 0.86206897, 0.7431629 ],\n",
       "       [1.        , 0.86206897, 0.7431629 ],\n",
       "       [1.        , 0.62068966, 0.38525565],\n",
       "       [1.        , 0.55172414, 0.30439952],\n",
       "       [1.        , 0.93103448, 0.86682521],\n",
       "       [1.        , 0.93103448, 0.86682521],\n",
       "       [1.        , 0.93103448, 0.86682521],\n",
       "       [1.        , 0.79310345, 0.62901308],\n",
       "       [1.        , 0.93103448, 0.86682521],\n",
       "       [1.        , 0.89655172, 0.80380499],\n",
       "       [1.        , 0.62068966, 0.38525565],\n",
       "       [1.        , 0.86206897, 0.7431629 ],\n",
       "       [1.        , 0.93103448, 0.86682521]])"
      ]
     },
     "execution_count": 84,
     "metadata": {},
     "output_type": "execute_result"
    }
   ],
   "source": [
    "pr = PolynomialFeatures(degree= 2)\n",
    "x_train_pr = pr.fit_transform(x_train1[[\"CPU_frequency\"]])\n",
    "x_train_pr"
   ]
  },
  {
   "cell_type": "code",
   "execution_count": 85,
   "metadata": {
    "trusted": true
   },
   "outputs": [],
   "source": [
    "# Write your code below and press Shift+Enter to execute \n",
    "\n",
    "from sklearn.preprocessing import PolynomialFeatures\n",
    "\n",
    "r2_score_pr = []\n",
    "order = [1,2,3,4,5]\n",
    "for i in range(1,6):\n",
    "    pr = PolynomialFeatures(degree= i)\n",
    "    x_train_pr = pr.fit_transform(x_train1[[\"CPU_frequency\"]])\n",
    "    x_test_pr = pr.fit_transform(x_test1[[\"CPU_frequency\"]])\n",
    "    lr.fit(x_train_pr,y_train1)\n",
    "    \n",
    "    r = lr.score(x_test_pr,y_test1)\n",
    "    r2_score_pr.append(r)\n",
    "    \n"
   ]
  },
  {
   "cell_type": "markdown",
   "metadata": {},
   "source": [
    "<details><summary>Click here for the solution</summary>\n",
    "\n",
    "```python\n",
    "lre = LinearRegression()\n",
    "Rsqu_test = []\n",
    "order = [1, 2, 3, 4, 5]\n",
    "for n in order:\n",
    "    pr = PolynomialFeatures(degree=n)\n",
    "    x_train_pr = pr.fit_transform(x_train[['CPU_frequency']])\n",
    "    x_test_pr = pr.fit_transform(x_test[['CPU_frequency']])    \n",
    "    lre.fit(x_train_pr, y_train)\n",
    "    Rsqu_test.append(lre.score(x_test_pr, y_test))\n",
    "```\n",
    "\n",
    "</details>\n"
   ]
  },
  {
   "cell_type": "markdown",
   "metadata": {},
   "source": [
    "Plot the values of R^2 scores against the order. Note the point where the score drops.\n"
   ]
  },
  {
   "cell_type": "code",
   "execution_count": 86,
   "metadata": {
    "trusted": true
   },
   "outputs": [
    {
     "data": {
      "text/plain": [
       "Text(0.5, 1.0, 'R^2 Using Test Data')"
      ]
     },
     "execution_count": 86,
     "metadata": {},
     "output_type": "execute_result"
    },
    {
     "data": {
      "image/png": "[encoded data removed]",
      "text/plain": [
       "<Figure size 640x480 with 1 Axes>"
      ]
     },
     "metadata": {},
     "output_type": "display_data"
    }
   ],
   "source": [
    "# Write your code below and press Shift+Enter to execute \n",
    "plt.plot(order, r2_score_pr)\n",
    "plt.xlabel('order')\n",
    "plt.ylabel('R^2')\n",
    "plt.title('R^2 Using Test Data')"
   ]
  },
  {
   "cell_type": "markdown",
   "metadata": {},
   "source": [
    "<details><summary>Click here for the solution</summary>\n",
    "\n",
    "```python\n",
    "plt.plot(order, Rsqu_test)\n",
    "plt.xlabel('order')\n",
    "plt.ylabel('R^2')\n",
    "plt.title('R^2 Using Test Data')\n",
    "```\n",
    "\n",
    "</details>\n"
   ]
  },
  {
   "cell_type": "markdown",
   "metadata": {},
   "source": [
    "# Task 3 : Ridge Regression\n",
    "\n",
    "Now consider that you have multiple features, i.e. 'CPU_frequency', 'RAM_GB', 'Storage_GB_SSD', 'CPU_core','OS','GPU' and 'Category'. Create a polynomial feature model that uses all these parameters with degree=2. Also create the training and testing attribute sets.\n"
   ]
  },
  {
   "cell_type": "code",
   "execution_count": 87,
   "metadata": {
    "trusted": true
   },
   "outputs": [],
   "source": [
    "# Write your code below and press Shift+Enter to execute \n",
    "pr=PolynomialFeatures(degree=2)\n",
    "x_train_pr=pr.fit_transform(x_train[['CPU_frequency', 'RAM_GB', 'Storage_GB_SSD', 'CPU_core', 'OS', 'GPU', 'Category']])\n",
    "x_test_pr=pr.fit_transform(x_test[['CPU_frequency', 'RAM_GB', 'Storage_GB_SSD', 'CPU_core', 'OS', 'GPU', 'Category']])"
   ]
  },
  {
   "cell_type": "markdown",
   "metadata": {},
   "source": [
    "<details><summary>Click here for the solution</summary>\n",
    "\n",
    "```python\n",
    "pr=PolynomialFeatures(degree=2)\n",
    "x_train_pr=pr.fit_transform(x_train[['CPU_frequency', 'RAM_GB', 'Storage_GB_SSD', 'CPU_core', 'OS', 'GPU', 'Category']])\n",
    "x_test_pr=pr.fit_transform(x_test[['CPU_frequency', 'RAM_GB', 'Storage_GB_SSD', 'CPU_core', 'OS', 'GPU', 'Category']])\n",
    "```\n",
    "\n",
    "</details>\n"
   ]
  },
  {
   "cell_type": "markdown",
   "metadata": {},
   "source": [
    "Create a Ridge Regression model and evaluate it using values of the hyperparameter alpha ranging from 0.001 to 1 with increments of 0.001. \n",
    "Create a list of all Ridge Regression R^2 scores for training and testing data. \n"
   ]
  },
  {
   "cell_type": "code",
   "execution_count": 88,
   "metadata": {
    "trusted": true
   },
   "outputs": [
    {
     "ename": "TypeError",
     "evalue": "solve() got an unexpected keyword argument 'sym_pos'",
     "output_type": "error",
     "traceback": [
      "\u001b[0;31m---------------------------------------------------------------------------\u001b[0m",
      "\u001b[0;31mTypeError\u001b[0m                                 Traceback (most recent call last)",
      "Cell \u001b[0;32mIn[88], line 41\u001b[0m\n\u001b[1;32m     39\u001b[0m \u001b[38;5;28;01mfor\u001b[39;00m alpha \u001b[38;5;129;01min\u001b[39;00m alphas:\n\u001b[1;32m     40\u001b[0m     RigeModel \u001b[38;5;241m=\u001b[39m Ridge(alpha\u001b[38;5;241m=\u001b[39malpha)\n\u001b[0;32m---> 41\u001b[0m     \u001b[43mRigeModel\u001b[49m\u001b[38;5;241;43m.\u001b[39;49m\u001b[43mfit\u001b[49m\u001b[43m(\u001b[49m\u001b[43mx_train_pr\u001b[49m\u001b[43m,\u001b[49m\u001b[43m \u001b[49m\u001b[43my_train\u001b[49m\u001b[43m)\u001b[49m\n\u001b[1;32m     42\u001b[0m     test_score \u001b[38;5;241m=\u001b[39m RigeModel\u001b[38;5;241m.\u001b[39mscore(x_test_pr, y_test)\n\u001b[1;32m     43\u001b[0m     train_score \u001b[38;5;241m=\u001b[39m RigeModel\u001b[38;5;241m.\u001b[39mscore(x_train_pr, y_train)\n",
      "File \u001b[0;32m~/miniconda3/envs/min_ds-env2/lib/python3.10/site-packages/sklearn/linear_model/_ridge.py:1011\u001b[0m, in \u001b[0;36mRidge.fit\u001b[0;34m(self, X, y, sample_weight)\u001b[0m\n\u001b[1;32m   1002\u001b[0m _accept_sparse \u001b[38;5;241m=\u001b[39m _get_valid_accept_sparse(sparse\u001b[38;5;241m.\u001b[39missparse(X), \u001b[38;5;28mself\u001b[39m\u001b[38;5;241m.\u001b[39msolver)\n\u001b[1;32m   1003\u001b[0m X, y \u001b[38;5;241m=\u001b[39m \u001b[38;5;28mself\u001b[39m\u001b[38;5;241m.\u001b[39m_validate_data(\n\u001b[1;32m   1004\u001b[0m     X,\n\u001b[1;32m   1005\u001b[0m     y,\n\u001b[0;32m   (...)\u001b[0m\n\u001b[1;32m   1009\u001b[0m     y_numeric\u001b[38;5;241m=\u001b[39m\u001b[38;5;28;01mTrue\u001b[39;00m,\n\u001b[1;32m   1010\u001b[0m )\n\u001b[0;32m-> 1011\u001b[0m \u001b[38;5;28;01mreturn\u001b[39;00m \u001b[38;5;28;43msuper\u001b[39;49m\u001b[43m(\u001b[49m\u001b[43m)\u001b[49m\u001b[38;5;241;43m.\u001b[39;49m\u001b[43mfit\u001b[49m\u001b[43m(\u001b[49m\u001b[43mX\u001b[49m\u001b[43m,\u001b[49m\u001b[43m \u001b[49m\u001b[43my\u001b[49m\u001b[43m,\u001b[49m\u001b[43m \u001b[49m\u001b[43msample_weight\u001b[49m\u001b[38;5;241;43m=\u001b[39;49m\u001b[43msample_weight\u001b[49m\u001b[43m)\u001b[49m\n",
      "File \u001b[0;32m~/miniconda3/envs/min_ds-env2/lib/python3.10/site-packages/sklearn/linear_model/_ridge.py:782\u001b[0m, in \u001b[0;36m_BaseRidge.fit\u001b[0;34m(self, X, y, sample_weight)\u001b[0m\n\u001b[1;32m    778\u001b[0m     \u001b[38;5;28;01melse\u001b[39;00m:\n\u001b[1;32m    779\u001b[0m         \u001b[38;5;66;03m# for dense matrices or when intercept is set to 0\u001b[39;00m\n\u001b[1;32m    780\u001b[0m         params \u001b[38;5;241m=\u001b[39m {}\n\u001b[0;32m--> 782\u001b[0m     \u001b[38;5;28mself\u001b[39m\u001b[38;5;241m.\u001b[39mcoef_, \u001b[38;5;28mself\u001b[39m\u001b[38;5;241m.\u001b[39mn_iter_ \u001b[38;5;241m=\u001b[39m \u001b[43m_ridge_regression\u001b[49m\u001b[43m(\u001b[49m\n\u001b[1;32m    783\u001b[0m \u001b[43m        \u001b[49m\u001b[43mX\u001b[49m\u001b[43m,\u001b[49m\n\u001b[1;32m    784\u001b[0m \u001b[43m        \u001b[49m\u001b[43my\u001b[49m\u001b[43m,\u001b[49m\n\u001b[1;32m    785\u001b[0m \u001b[43m        \u001b[49m\u001b[43malpha\u001b[49m\u001b[38;5;241;43m=\u001b[39;49m\u001b[38;5;28;43mself\u001b[39;49m\u001b[38;5;241;43m.\u001b[39;49m\u001b[43malpha\u001b[49m\u001b[43m,\u001b[49m\n\u001b[1;32m    786\u001b[0m \u001b[43m        \u001b[49m\u001b[43msample_weight\u001b[49m\u001b[38;5;241;43m=\u001b[39;49m\u001b[43msample_weight\u001b[49m\u001b[43m,\u001b[49m\n\u001b[1;32m    787\u001b[0m \u001b[43m        \u001b[49m\u001b[43mmax_iter\u001b[49m\u001b[38;5;241;43m=\u001b[39;49m\u001b[38;5;28;43mself\u001b[39;49m\u001b[38;5;241;43m.\u001b[39;49m\u001b[43mmax_iter\u001b[49m\u001b[43m,\u001b[49m\n\u001b[1;32m    788\u001b[0m \u001b[43m        \u001b[49m\u001b[43mtol\u001b[49m\u001b[38;5;241;43m=\u001b[39;49m\u001b[38;5;28;43mself\u001b[39;49m\u001b[38;5;241;43m.\u001b[39;49m\u001b[43mtol\u001b[49m\u001b[43m,\u001b[49m\n\u001b[1;32m    789\u001b[0m \u001b[43m        \u001b[49m\u001b[43msolver\u001b[49m\u001b[38;5;241;43m=\u001b[39;49m\u001b[43msolver\u001b[49m\u001b[43m,\u001b[49m\n\u001b[1;32m    790\u001b[0m \u001b[43m        \u001b[49m\u001b[43mpositive\u001b[49m\u001b[38;5;241;43m=\u001b[39;49m\u001b[38;5;28;43mself\u001b[39;49m\u001b[38;5;241;43m.\u001b[39;49m\u001b[43mpositive\u001b[49m\u001b[43m,\u001b[49m\n\u001b[1;32m    791\u001b[0m \u001b[43m        \u001b[49m\u001b[43mrandom_state\u001b[49m\u001b[38;5;241;43m=\u001b[39;49m\u001b[38;5;28;43mself\u001b[39;49m\u001b[38;5;241;43m.\u001b[39;49m\u001b[43mrandom_state\u001b[49m\u001b[43m,\u001b[49m\n\u001b[1;32m    792\u001b[0m \u001b[43m        \u001b[49m\u001b[43mreturn_n_iter\u001b[49m\u001b[38;5;241;43m=\u001b[39;49m\u001b[38;5;28;43;01mTrue\u001b[39;49;00m\u001b[43m,\u001b[49m\n\u001b[1;32m    793\u001b[0m \u001b[43m        \u001b[49m\u001b[43mreturn_intercept\u001b[49m\u001b[38;5;241;43m=\u001b[39;49m\u001b[38;5;28;43;01mFalse\u001b[39;49;00m\u001b[43m,\u001b[49m\n\u001b[1;32m    794\u001b[0m \u001b[43m        \u001b[49m\u001b[43mcheck_input\u001b[49m\u001b[38;5;241;43m=\u001b[39;49m\u001b[38;5;28;43;01mFalse\u001b[39;49;00m\u001b[43m,\u001b[49m\n\u001b[1;32m    795\u001b[0m \u001b[43m        \u001b[49m\u001b[38;5;241;43m*\u001b[39;49m\u001b[38;5;241;43m*\u001b[39;49m\u001b[43mparams\u001b[49m\u001b[43m,\u001b[49m\n\u001b[1;32m    796\u001b[0m \u001b[43m    \u001b[49m\u001b[43m)\u001b[49m\n\u001b[1;32m    797\u001b[0m     \u001b[38;5;28mself\u001b[39m\u001b[38;5;241m.\u001b[39m_set_intercept(X_offset, y_offset, X_scale)\n\u001b[1;32m    799\u001b[0m \u001b[38;5;28;01mreturn\u001b[39;00m \u001b[38;5;28mself\u001b[39m\n",
      "File \u001b[0;32m~/miniconda3/envs/min_ds-env2/lib/python3.10/site-packages/sklearn/linear_model/_ridge.py:599\u001b[0m, in \u001b[0;36m_ridge_regression\u001b[0;34m(X, y, alpha, sample_weight, solver, max_iter, tol, verbose, positive, random_state, return_n_iter, return_intercept, X_scale, X_offset, check_input)\u001b[0m\n\u001b[1;32m    597\u001b[0m \u001b[38;5;28;01melse\u001b[39;00m:\n\u001b[1;32m    598\u001b[0m     \u001b[38;5;28;01mtry\u001b[39;00m:\n\u001b[0;32m--> 599\u001b[0m         coef \u001b[38;5;241m=\u001b[39m \u001b[43m_solve_cholesky\u001b[49m\u001b[43m(\u001b[49m\u001b[43mX\u001b[49m\u001b[43m,\u001b[49m\u001b[43m \u001b[49m\u001b[43my\u001b[49m\u001b[43m,\u001b[49m\u001b[43m \u001b[49m\u001b[43malpha\u001b[49m\u001b[43m)\u001b[49m\n\u001b[1;32m    600\u001b[0m     \u001b[38;5;28;01mexcept\u001b[39;00m linalg\u001b[38;5;241m.\u001b[39mLinAlgError:\n\u001b[1;32m    601\u001b[0m         \u001b[38;5;66;03m# use SVD solver if matrix is singular\u001b[39;00m\n\u001b[1;32m    602\u001b[0m         solver \u001b[38;5;241m=\u001b[39m \u001b[38;5;124m\"\u001b[39m\u001b[38;5;124msvd\u001b[39m\u001b[38;5;124m\"\u001b[39m\n",
      "File \u001b[0;32m~/miniconda3/envs/min_ds-env2/lib/python3.10/site-packages/sklearn/linear_model/_ridge.py:157\u001b[0m, in \u001b[0;36m_solve_cholesky\u001b[0;34m(X, y, alpha)\u001b[0m\n\u001b[1;32m    155\u001b[0m \u001b[38;5;28;01mif\u001b[39;00m one_alpha:\n\u001b[1;32m    156\u001b[0m     A\u001b[38;5;241m.\u001b[39mflat[:: n_features \u001b[38;5;241m+\u001b[39m \u001b[38;5;241m1\u001b[39m] \u001b[38;5;241m+\u001b[39m\u001b[38;5;241m=\u001b[39m alpha[\u001b[38;5;241m0\u001b[39m]\n\u001b[0;32m--> 157\u001b[0m     \u001b[38;5;28;01mreturn\u001b[39;00m \u001b[43mlinalg\u001b[49m\u001b[38;5;241;43m.\u001b[39;49m\u001b[43msolve\u001b[49m\u001b[43m(\u001b[49m\u001b[43mA\u001b[49m\u001b[43m,\u001b[49m\u001b[43m \u001b[49m\u001b[43mXy\u001b[49m\u001b[43m,\u001b[49m\u001b[43m \u001b[49m\u001b[43msym_pos\u001b[49m\u001b[38;5;241;43m=\u001b[39;49m\u001b[38;5;28;43;01mTrue\u001b[39;49;00m\u001b[43m,\u001b[49m\u001b[43m \u001b[49m\u001b[43moverwrite_a\u001b[49m\u001b[38;5;241;43m=\u001b[39;49m\u001b[38;5;28;43;01mTrue\u001b[39;49;00m\u001b[43m)\u001b[49m\u001b[38;5;241m.\u001b[39mT\n\u001b[1;32m    158\u001b[0m \u001b[38;5;28;01melse\u001b[39;00m:\n\u001b[1;32m    159\u001b[0m     coefs \u001b[38;5;241m=\u001b[39m np\u001b[38;5;241m.\u001b[39mempty([n_targets, n_features], dtype\u001b[38;5;241m=\u001b[39mX\u001b[38;5;241m.\u001b[39mdtype)\n",
      "\u001b[0;31mTypeError\u001b[0m: solve() got an unexpected keyword argument 'sym_pos'"
     ]
    }
   ],
   "source": [
    "# # Write your code below and press Shift+Enter to execute \n",
    "# from sklearn.linear_model import Ridge\n",
    "\n",
    "# ridge = Ridge\n",
    "\n",
    "# alphas = np.logspace(-3,0,20)\n",
    "\n",
    "\n",
    "# r_2_train1 = []\n",
    "# r_2_test1 = []\n",
    "\n",
    "# for alpha in alphas:\n",
    "#     ridge = Ridge(alpha=alpha)\n",
    "\n",
    "#     ridge.fit(x_train_pr,y_train)\n",
    "    \n",
    "#     test_score = ridge.score(x_test_pr, y_test1) \n",
    "    \n",
    "#     train_score = ridge.score(x_train_pr,y_train1)\n",
    "    \n",
    "#     r_2_train1.append(train_score)\n",
    "    \n",
    "#     r_2_test1.append(test_score)\n",
    "\n",
    "\n",
    "import numpy as np\n",
    "from sklearn.linear_model import Ridge\n",
    "\n",
    "Rsqu_test = []\n",
    "Rsqu_train = []\n",
    "alphas = np.logspace(-3, 0, 20)\n",
    "\n",
    "# Ensure the data is in the right format\n",
    "x_train_pr = np.array(x_train_pr, dtype=np.float64)\n",
    "x_test_pr = np.array(x_test_pr, dtype=np.float64)\n",
    "y_train = np.array(y_train, dtype=np.float64)\n",
    "y_test = np.array(y_test, dtype=np.float64)\n",
    "\n",
    "for alpha in alphas:\n",
    "    RigeModel = Ridge(alpha=alpha)\n",
    "    RigeModel.fit(x_train_pr, y_train)\n",
    "    test_score = RigeModel.score(x_test_pr, y_test)\n",
    "    train_score = RigeModel.score(x_train_pr, y_train)\n",
    "    Rsqu_test.append(test_score)\n",
    "    Rsqu_train.append(train_score)\n"
   ]
  },
  {
   "cell_type": "markdown",
   "metadata": {},
   "source": [
    "<details><summary>Click here for the solution</summary>\n",
    "\n",
    "```python\n",
    "Rsqu_test = []\n",
    "Rsqu_train = []\n",
    "Alpha = np.arange(0.001,1,0.001)\n",
    "pbar = tqdm(Alpha)\n",
    "\n",
    "for alpha in pbar:\n",
    "    RigeModel = Ridge(alpha=alpha) \n",
    "    RigeModel.fit(x_train_pr, y_train)\n",
    "    test_score, train_score = RigeModel.score(x_test_pr, y_test), RigeModel.score(x_train_pr, y_train)\n",
    "    pbar.set_postfix({\"Test Score\": test_score, \"Train Score\": train_score})\n",
    "    Rsqu_test.append(test_score)\n",
    "    Rsqu_train.append(train_score)\n",
    "```\n",
    "\n",
    "</details>\n"
   ]
  },
  {
   "cell_type": "markdown",
   "metadata": {},
   "source": [
    "Plot the R^2 values for training and testing sets with respect to the value of alpha\n"
   ]
  },
  {
   "cell_type": "code",
   "execution_count": null,
   "metadata": {
    "trusted": true
   },
   "outputs": [],
   "source": [
    "# Write your code below and press Shift+Enter to execute \n"
   ]
  },
  {
   "cell_type": "markdown",
   "metadata": {},
   "source": [
    "<details><summary>Click here for the solution</summary>\n",
    "\n",
    "```python\n",
    "plt.figure(figsize=(10, 6))  \n",
    "plt.plot(Alpha, Rsqu_test, label='validation data')\n",
    "plt.plot(Alpha, Rsqu_train, 'r', label='training Data')\n",
    "plt.xlabel('alpha')\n",
    "plt.ylabel('R^2')\n",
    "plt.ylim(0, 1)\n",
    "plt.legend()\n",
    "```\n",
    "\n",
    "</details>\n"
   ]
  },
  {
   "cell_type": "markdown",
   "metadata": {},
   "source": [
    "# Task 4: Grid Search\n",
    "\n",
    "Using the raw data and the same set of features as used above, use GridSearchCV to identify the value of alpha for which the model performs best. \n",
    "Assume the set of alpha values to be used as\n",
    "```math\n",
    "{0.0001, 0.001, 0.01, 0.1, 1, 10}\n",
    "```\n"
   ]
  },
  {
   "cell_type": "code",
   "execution_count": null,
   "metadata": {
    "trusted": true
   },
   "outputs": [],
   "source": [
    "# Write your code below and press Shift+Enter to execute \n"
   ]
  },
  {
   "cell_type": "markdown",
   "metadata": {},
   "source": [
    "<details><summary>Click here for the solution</summary>\n",
    "\n",
    "```python\n",
    "parameters1= [{'alpha': [0.0001,0.001,0.01, 0.1, 1, 10]}]\n",
    "```\n",
    "\n",
    "</details>\n"
   ]
  },
  {
   "cell_type": "markdown",
   "metadata": {},
   "source": [
    "Create a Ridge instance and run Grid Search using a 4 fold cross validation.\n"
   ]
  },
  {
   "cell_type": "code",
   "execution_count": null,
   "metadata": {
    "trusted": true
   },
   "outputs": [],
   "source": [
    "# Write your code below and press Shift+Enter to execute \n"
   ]
  },
  {
   "cell_type": "markdown",
   "metadata": {},
   "source": [
    "<details><summary>Click here for the solution</summary>\n",
    "\n",
    "```python\n",
    "RR=Ridge()\n",
    "Grid1 = GridSearchCV(RR, parameters1,cv=4)\n",
    "```\n",
    "</details>\n"
   ]
  },
  {
   "cell_type": "markdown",
   "metadata": {},
   "source": [
    "Fit the Grid Search to the training data.\n"
   ]
  },
  {
   "cell_type": "markdown",
   "metadata": {},
   "source": [
    "<details><summary>Click here for the solution</summary>\n",
    "\n",
    "```python\n",
    "Grid1.fit(x_train[['CPU_frequency', 'RAM_GB', 'Storage_GB_SSD', 'CPU_core', 'OS', 'GPU', 'Category']], y_train)\n",
    "```\n",
    "</details>\n"
   ]
  },
  {
   "cell_type": "markdown",
   "metadata": {},
   "source": [
    "Print the R^2 score for the test data using the estimator that uses the derived optimum value of alpha.\n"
   ]
  },
  {
   "cell_type": "code",
   "execution_count": null,
   "metadata": {
    "trusted": true
   },
   "outputs": [],
   "source": [
    "# Write your code below and press Shift+Enter to execute \n"
   ]
  },
  {
   "cell_type": "code",
   "execution_count": null,
   "metadata": {},
   "outputs": [],
   "source": [
    "from sklearn.model_selection import GridSearchCV\n",
    "from sklearn.linear_model import Ridge\n",
    "parameters1= [{'alpha': [0.001,0.1,1, 10, 100, 1000, 10000, ...]}]\n",
    "RR=Ridge()\n",
    "Grid1 = GridSearchCV(RR, parameters1,cv=4) \n",
    "Grid1.fit(x_data[['attribute_1', 'attribute_2', ...]], y_data)\n",
    "BestRR=Grid1.best_estimator_\n",
    "BestRR.score(x_test[['attribute_1', 'attribute_2', ...]], y_test)"
   ]
  },
  {
   "cell_type": "markdown",
   "metadata": {},
   "source": [
    "<details><summary>Click here for the solution</summary>\n",
    "\n",
    "```python\n",
    "BestRR=Grid1.best_estimator_\n",
    "print(BestRR.score(x_test[['CPU_frequency', 'RAM_GB', 'Storage_GB_SSD', 'CPU_core','OS','GPU','Category']], y_test))\n",
    "```\n",
    "</details>\n"
   ]
  },
  {
   "cell_type": "markdown",
   "metadata": {},
   "source": [
    "# Congratulations! You have completed the lab\n"
   ]
  },
  {
   "cell_type": "markdown",
   "metadata": {},
   "source": [
    "## Authors\n"
   ]
  },
  {
   "cell_type": "markdown",
   "metadata": {},
   "source": [
    "[Abhishek Gagneja](https://www.coursera.org/instructor/~129186572)\n",
    "\n",
    "[Vicky Kuo](https://author.skills.network/instructors/vicky_kuo)\n"
   ]
  },
  {
   "cell_type": "markdown",
   "metadata": {},
   "source": [
    "Copyright © 2023 IBM Corporation. All rights reserved.\n"
   ]
  },
  {
   "cell_type": "markdown",
   "metadata": {},
   "source": [
    "<!--## Change Log\n"
   ]
  },
  {
   "cell_type": "markdown",
   "metadata": {},
   "source": [
    "<!--|Date (YYYY-MM-DD)|Version|Changed By|Change Description|\n",
    "|-|-|-|-|\n",
    "|2023-09-16|0.1|Abhishek Gagneja|Initial Version Created|\n",
    "|2023-09-19|0.2|Vicky Kuo|Reviewed and Revised|\n",
    "--!>\n"
   ]
  }
 ],
 "metadata": {
  "kernelspec": {
   "display_name": "min_ds-env2",
   "language": "python",
   "name": "python3"
  },
  "language_info": {
   "codemirror_mode": {
    "name": "ipython",
    "version": 3
   },
   "file_extension": ".py",
   "mimetype": "text/x-python",
   "name": "python",
   "nbconvert_exporter": "python",
   "pygments_lexer": "ipython3",
   "version": "3.10.15"
  },
  "prev_pub_hash": "7223430eb6f949ac01a637161524a1dd0b094f523dc11d959017534e430e40f1"
 },
 "nbformat": 4,
 "nbformat_minor": 4
}
