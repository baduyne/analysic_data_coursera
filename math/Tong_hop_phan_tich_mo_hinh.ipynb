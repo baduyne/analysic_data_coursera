{
 "cells": [
  {
   "cell_type": "markdown",
   "id": "5edba779",
   "metadata": {},
   "source": [
    "\n",
    "# Phân tích và nhận xét mô hình dữ liệu\n",
    "\n",
    "Trong notebook này, chúng ta sẽ thảo luận và trả lời các câu hỏi liên quan đến cách nhận xét mô hình dữ liệu thông qua các biểu đồ và phương pháp khác nhau. Nội dung bao gồm:\n",
    "\n",
    "1. **Nhận xét mô hình qua các biểu đồ Residual Plot, Resi Plot và Distribution Plot.**\n",
    "2. **Phân biệt giữa mô hình tuyến tính và phi tuyến tính.**\n",
    "3. **Xác định mối quan hệ giữa hai biến có tuyến tính hay phi tuyến tính.**\n",
    "4. **Khái niệm tổ hợp tuyến tính và ứng dụng.**\n"
   ]
  },
  {
   "cell_type": "markdown",
   "id": "0dd8ee2e",
   "metadata": {},
   "source": [
    "## 1. Cách nhận xét mô hình dựa vào các biểu đồ Residual Plot, Resi Plot và Distribution Plot"
   ]
  },
  {
   "cell_type": "markdown",
   "id": "07f00fcc",
   "metadata": {},
   "source": [
    "\n",
    "### Residual Plot\n",
    "Residual plot (biểu đồ phần dư) hiển thị sự khác biệt giữa giá trị dự đoán và giá trị thực tế. Nó là công cụ quan trọng để kiểm tra mức độ phù hợp của mô hình.\n",
    "\n",
    "#### Cách sử dụng Residual Plot để chuẩn đoán mô hình:\n",
    "- Nếu phần dư phân tán ngẫu nhiên xung quanh trục 0, mô hình phù hợp.\n",
    "- Nếu phần dư có cấu trúc (ví dụ: hình parabola), điều đó cho thấy mô hình cần cải thiện hoặc mối quan hệ giữa các biến không tuyến tính.\n",
    "\n",
    "#### Ví dụ (Python):\n"
   ]
  },
  {
   "cell_type": "code",
   "execution_count": 1,
   "id": "7a4f7b43",
   "metadata": {},
   "outputs": [
    {
     "data": {
      "image/png": "[encoded data removed]",
      "text/plain": [
       "<Figure size 640x480 with 1 Axes>"
      ]
     },
     "metadata": {},
     "output_type": "display_data"
    }
   ],
   "source": [
    "\n",
    "import numpy as np\n",
    "import matplotlib.pyplot as plt\n",
    "from sklearn.linear_model import LinearRegression\n",
    "\n",
    "# Tạo dữ liệu giả lập\n",
    "np.random.seed(42)\n",
    "X = np.linspace(0, 10, 100).reshape(-1, 1)\n",
    "y = 3 * X.squeeze() + np.random.normal(0, 3, size=100)\n",
    "\n",
    "# Hồi quy tuyến tính\n",
    "model = LinearRegression()\n",
    "model.fit(X, y)\n",
    "y_pred = model.predict(X)\n",
    "\n",
    "# Tính phần dư (residuals)\n",
    "residuals = y - y_pred\n",
    "\n",
    "# Biểu đồ Residual Plot\n",
    "plt.scatter(X, residuals, alpha=0.7, color='blue')\n",
    "plt.axhline(y=0, color='red', linestyle='--')\n",
    "plt.title(\"Residual Plot\")\n",
    "plt.xlabel(\"X\")\n",
    "plt.ylabel(\"Residuals\")\n",
    "plt.show()\n"
   ]
  },
  {
   "cell_type": "markdown",
   "id": "5addd430",
   "metadata": {},
   "source": [
    "- Dựa vào đồ thị phần dư (residual plot) mà bạn đã chia sẻ, có thể rút ra một số nhận xét:\n",
    "\n",
    "    + Phân phối phần dư ngẫu nhiên xung quanh giá trị 0: Đồ thị cho thấy phần dư phân bố khá ngẫu nhiên xung quanh đường ngang 0 mà không có mẫu hình rõ ràng. Điều này cho thấy mô hình có thể là phù hợp với dữ liệu.\n",
    "    + Không có xu hướng hệ thống: Không có mẫu hay xu hướng hệ thống rõ ràng trong đồ thị. Nếu có một xu hướng hoặc mẫu như hình sin, tăng dần hoặc giảm dần, đó có thể là dấu hiệu của một mô hình không phù hợp hoặc mô hình chưa bao quát hết các mối quan hệ phi tuyến.\n",
    "\n"
   ]
  },
  {
   "cell_type": "code",
   "execution_count": null,
   "id": "fcfe540e",
   "metadata": {},
   "outputs": [],
   "source": []
  },
  {
   "cell_type": "markdown",
   "id": "be68d264",
   "metadata": {},
   "source": [
    "\n",
    "### Resi Plot\n",
    "Resi Plot thường được dùng để trực quan hóa độ phù hợp của mô hình, tương tự Residual Plot nhưng có thể bổ sung thêm các thông tin về mật độ dữ liệu.\n",
    "\n",
    "### Distribution Plot\n",
    "Distribution plot kiểm tra sự phân phối của giá trị thực tế và dự đoán. Nếu hai phân phối tương tự nhau, mô hình hoạt động tốt.\n"
   ]
  },
  {
   "cell_type": "code",
   "execution_count": null,
   "id": "d78a98dc",
   "metadata": {},
   "outputs": [],
   "source": [
    "\n",
    "import seaborn as sns\n",
    "\n",
    "# Biểu đồ Distribution Plot\n",
    "sns.kdeplot(y, color=\"red\", label=\"Actual\", fill=True)\n",
    "sns.kdeplot(y_pred, color=\"blue\", label=\"Predicted\", fill=True)\n",
    "plt.title(\"Distribution Plot\")\n",
    "plt.legend()\n",
    "plt.show()\n"
   ]
  },
  {
   "cell_type": "markdown",
   "id": "24b28625",
   "metadata": {},
   "source": [
    "## 2. Tuyến tính và phi tuyến tính là gì?"
   ]
  },
  {
   "cell_type": "markdown",
   "id": "cbaf96a7",
   "metadata": {},
   "source": [
    "\n",
    "### Mối quan hệ tuyến tính\n",
    "Một mối quan hệ được gọi là tuyến tính nếu nó có thể được biểu diễn dưới dạng một đường thẳng trong không gian đồ thị. Công thức chung:\n",
    "\\(\n",
    "y = a + bx\n",
    "\\)\n",
    "- \\(a\\): Hệ số chặn.\n",
    "- \\(b\\): Độ dốc.\n",
    "\n",
    "### Mối quan hệ phi tuyến tính\n",
    "Mối quan hệ phi tuyến không thể biểu diễn bằng một đường thẳng. Ví dụ:\n",
    "\\(\n",
    "y = ax^2 + bx + c\n",
    "\\)\n"
   ]
  },
  {
   "cell_type": "code",
   "execution_count": null,
   "id": "b6626656",
   "metadata": {},
   "outputs": [],
   "source": [
    "\n",
    "# Dữ liệu tuyến tính và phi tuyến\n",
    "x = np.linspace(-10, 10, 100)\n",
    "y_linear = 2 * x + 1\n",
    "y_nonlinear = x**2\n",
    "\n",
    "# Biểu đồ\n",
    "plt.figure(figsize=(12, 5))\n",
    "\n",
    "plt.subplot(1, 2, 1)\n",
    "plt.plot(x, y_linear, label=\"Tuyến tính\", color=\"blue\")\n",
    "plt.title(\"Quan hệ tuyến tính\")\n",
    "plt.legend()\n",
    "\n",
    "plt.subplot(1, 2, 2)\n",
    "plt.plot(x, y_nonlinear, label=\"Phi tuyến tính\", color=\"red\")\n",
    "plt.title(\"Quan hệ phi tuyến\")\n",
    "plt.legend()\n",
    "\n",
    "plt.show()\n"
   ]
  },
  {
   "cell_type": "markdown",
   "id": "13a5ba01",
   "metadata": {},
   "source": [
    "## 3. Làm sao để xác định mối quan hệ giữa hai biến có tuyến tính hay phi tuyến tính?"
   ]
  },
  {
   "cell_type": "markdown",
   "id": "724f091e",
   "metadata": {},
   "source": [
    "\n",
    "### Phương pháp xác định\n",
    "1. **Trực quan hóa (Scatter Plot)**:\n",
    "   Quan sát biểu đồ phân tán để kiểm tra xem dữ liệu có phân bố theo một đường thẳng hay không.\n",
    "\n",
    "2. **Hệ số tương quan Pearson**:\n",
    "   - \\(r = 1\\): Quan hệ tuyến tính dương hoàn hảo.\n",
    "   - \\(r = -1\\): Quan hệ tuyến tính âm hoàn hảo.\n",
    "   - \\(r = 0\\): Không có quan hệ tuyến tính.\n",
    "\n",
    "3. **Hệ số Spearman**:\n",
    "   Đo mối quan hệ đơn điệu (monotonic), hữu ích cho cả tuyến tính và phi tuyến tính.\n",
    "\n",
    "#### Code ví dụ kiểm tra tuyến tính và phi tuyến:\n"
   ]
  },
  {
   "cell_type": "code",
   "execution_count": null,
   "id": "67adf9a8",
   "metadata": {},
   "outputs": [],
   "source": [
    "\n",
    "from scipy.stats import pearsonr, spearmanr\n",
    "\n",
    "# Dữ liệu\n",
    "x = np.linspace(0, 10, 100)\n",
    "y_linear = 2 * x + 3\n",
    "y_nonlinear = x**2\n",
    "\n",
    "# Hệ số tương quan\n",
    "r_pearson_linear, _ = pearsonr(x, y_linear)\n",
    "r_pearson_nonlinear, _ = pearsonr(x, y_nonlinear)\n",
    "\n",
    "r_spearman_linear, _ = spearmanr(x, y_linear)\n",
    "r_spearman_nonlinear, _ = spearmanr(x, y_nonlinear)\n",
    "\n",
    "print(\"Pearson (Linear):\", r_pearson_linear)\n",
    "print(\"Pearson (Non-linear):\", r_pearson_nonlinear)\n",
    "print(\"Spearman (Linear):\", r_spearman_linear)\n",
    "print(\"Spearman (Non-linear):\", r_spearman_nonlinear)\n"
   ]
  },
  {
   "cell_type": "markdown",
   "id": "531bc702",
   "metadata": {},
   "source": [
    "### R² (hệ số xác định) là một chỉ số phổ biến để đánh giá mức độ phù hợp của mô hình. Tuy nhiên, trong nhiều trường hợp, chỉ số này không đủ để xác định liệu mô hình có thực sự phù hợp hay không. Để kiểm tra mô hình một cách toàn diện, bạn có thể sử dụng các phương pháp sau thay thế hoặc bổ sung cho R²:\n",
    "- Công thức $R^2$:\n",
    "    Công thức chi tiết:\n",
    "\n",
    "$$\n",
    "R^2 = 1 - \\frac{\\sum_{i=1}^{n} (y_i - \\hat{y}_i)^2}{\\sum_{i=1}^{n} (y_i - \\bar{y})^2}\n",
    "$$\n",
    "\n",
    "* $y_i$: là giá trị thực tế của biến phụ thuộc.\n",
    "* $\\hat{y}_i$: là giá trị dự đoán từ mô hình.\n",
    "* $\\bar{y}$: là giá trị trung bình của biến phụ thuộc.\n",
    "```python\n",
    "from sklearn.metrics import r2_score\n",
    "\n",
    "# Dữ liệu giả lập\n",
    "y_true = [3, -0.5, 2, 7]\n",
    "y_pred = [2.5, 0.0, 2, 8]\n",
    "\n",
    "# Tính R^2\n",
    "r2 = r2_score(y_true, y_pred)\n",
    "print(f\"R^2: {r2}\")\n",
    "```\n",
    "Công thức tính Adjusted R-squared:\n",
    "\n",
    "$$\n",
    "R^2_{adjusted} = 1 - \\frac{(1 - R^2)(n - 1)}{n - p - 1}\n",
    "$$\n",
    "\n",
    "Trong đó:\n",
    "* n là số mẫu (số điểm dữ liệu).\n",
    "* p là số biến độc lập trong mô hình.\n",
    "* R² là giá trị R² thông thường được tính từ mô hình.\n",
    "\n",
    "[Refer-Link](https://xulydinhluong.com/do-phu-hop-mo-hinh-phan-du-hoi-quy/)"
   ]
  },
  {
   "cell_type": "markdown",
   "id": "65a37f05",
   "metadata": {},
   "source": [
    "## Các công thức thống kê cơ bản\n",
    "\n",
    "### Trung bình mẫu (Mean)\n",
    "$$\n",
    "\\bar{X} = \\frac{\\sum_{i=1}^{n} x_i}{n}\n",
    "$$\n",
    "\n",
    "### Phương sai mẫu (Variance)\n",
    "$$\n",
    "S^2 = \\frac{\\sum_{i=1}^{n} (x_i - \\bar{X})^2}{n-1}\n",
    "$$\n",
    "\n",
    "### Độ lệch chuẩn mẫu (Standard Deviation)\n",
    "$$\n",
    "S = \\sqrt{S^2}\n",
    "$$\n",
    "\n",
    "### Độ lệch trung bình (Mean Deviation)\n",
    "$$\n",
    "MD = \\frac{\\sum_{i=1}^{n} |x_i - \\bar{X}|}{n}\n",
    "$$\n",
    "\n",
    "### Hệ số biến thiên (Coefficient of Variation)\n",
    "$$\n",
    "CV = \\frac{S}{\\bar{X}} \\times 100\\%\n",
    "$$\n",
    "\n",
    "**Trong đó:**\n",
    "* $\\bar{X}$: Trung bình mẫu\n",
    "* $S^2$: Phương sai mẫu\n",
    "* $S$: Độ lệch chuẩn mẫu\n",
    "* $MD$: Độ lệch trung bình\n",
    "* $CV$: Hệ số biến thiên\n",
    "* $x_i$: Giá trị thứ i trong mẫu\n",
    "* $n$: Số lượng giá trị trong mẫu"
   ]
  },
  {
   "cell_type": "markdown",
   "id": "28d7cd92",
   "metadata": {},
   "source": [
    "## 4. Tổ hợp tuyến tính là gì?"
   ]
  },
  {
   "cell_type": "markdown",
   "id": "8366a3a7",
   "metadata": {},
   "source": [
    "\n",
    "### Định nghĩa\n",
    "Tổ hợp tuyến tính của các vector hoặc biến là biểu thức dưới dạng:\n",
    "\\(\n",
    "y = c_1x_1 + c_2x_2 + \\dots + c_nx_n\n",
    "\\)\n",
    "Trong đó:\n",
    "- \\(x_1, x_2, \\dots, x_n\\): Các vector hoặc biến.\n",
    "- \\(c_1, c_2, \\dots, c_n\\): Các hệ số.\n",
    "\n",
    "### Ứng dụng\n",
    "- Hồi quy tuyến tính: Tổ hợp tuyến tính của các biến đầu vào để dự đoán.\n",
    "- PCA: Giảm chiều dữ liệu thông qua tổ hợp tuyến tính.\n",
    "\n",
    "#### Code minh họa:\n"
   ]
  },
  {
   "cell_type": "code",
   "execution_count": null,
   "id": "eb3c909f",
   "metadata": {},
   "outputs": [],
   "source": [
    "\n",
    "# Ví dụ tổ hợp tuyến tính\n",
    "x1, x2 = 2, 3\n",
    "c1, c2 = 4, -1\n",
    "\n",
    "y = c1 * x1 + c2 * x2\n",
    "print(\"Tổ hợp tuyến tính:\", y)\n"
   ]
  }
 ],
 "metadata": {
  "kernelspec": {
   "display_name": "min_ds-env2",
   "language": "python",
   "name": "python3"
  },
  "language_info": {
   "codemirror_mode": {
    "name": "ipython",
    "version": 3
   },
   "file_extension": ".py",
   "mimetype": "text/x-python",
   "name": "python",
   "nbconvert_exporter": "python",
   "pygments_lexer": "ipython3",
   "version": "3.10.15"
  }
 },
 "nbformat": 4,
 "nbformat_minor": 5
}
